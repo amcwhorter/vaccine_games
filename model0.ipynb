{
 "cells": [
  {
   "cell_type": "code",
   "execution_count": 53,
   "metadata": {},
   "outputs": [],
   "source": [
    "import numpy as np\n",
    "import networkx as nx\n",
    "import matplotlib.pyplot as plt\n",
    "from tqdm import tqdm"
   ]
  },
  {
   "cell_type": "code",
   "execution_count": 54,
   "metadata": {},
   "outputs": [],
   "source": [
    "# parameter values\n",
    "alpha = 1    #learning rate\n",
    "beta = 0.4      #transmission rate\n",
    "gamma = 0.5     #recovery rate\n",
    "#discount = 0.9  #discount factor\n",
    "r = 0.2         #payoff ratio\n",
    "T = 0.11        #Starting Temp\n",
    "N = 100         #population size\n",
    "k = 4           #degree\n",
    "n = 10000      #iterations"
   ]
  },
  {
   "cell_type": "code",
   "execution_count": 55,
   "metadata": {},
   "outputs": [],
   "source": [
    "def boltzmann(q, T):\n",
    "    q1, q2 = q[0], q[1]\n",
    "    a = np.e ** (q1 / T)\n",
    "    b = np.e ** (q2 / T)\n",
    "    return a / (a + b)\n",
    "\n",
    "\n",
    "def state(i, a_t, g):\n",
    "    neighbors = np.array(g.adj[i])\n",
    "    vax = np.intersect1d(np.nonzero(a_t), neighbors)\n",
    "    return len(vax)\n",
    "\n",
    "vec_state = np.vectorize(state, excluded=[1, 2])\n",
    "\n",
    "def choose_act(i, s_t, Q, T):\n",
    "    q = Q[i, s_t[i], :]\n",
    "    b = boltzmann(q, T)\n",
    "    p = np.random.random()\n",
    "    if p < b: return 0 # do not vaccinate\n",
    "    else: return 1 # vaccinate\n",
    "\n",
    "vec_act = np.vectorize(choose_act, excluded=[1, 2, 3])\n",
    "\n",
    "def q_update(Q, s_t, a_t, r_t1, s_t1, discount):\n",
    "    for i in range(N):\n",
    "        q_new = (1 - alpha) * Q[i, s_t[i], a_t[i]] + alpha * (r_t1[i] + discount * max(Q[i, s_t1[i], :]))\n",
    "        Q[i, s_t[i], a_t[i]] = q_new\n",
    "    return Q\n",
    "\n",
    "def epidemic(a_t, g): \n",
    "    \n",
    "    S = np.where(a_t == 0)[0]\n",
    "    if len(S) == 0:\n",
    "        return np.ones(N) * -r\n",
    "    I = np.random.choice(S, len(S) // 10)\n",
    "    S = np.setdiff1d(S, I)\n",
    "    R = np.where(a_t == 1)[0]\n",
    "\n",
    "    payoffs = np.zeros(100)\n",
    "    for i in range(N):\n",
    "        if np.isin(i, R):\n",
    "            payoffs[i] = -r\n",
    "        elif np.isin(i, I):\n",
    "            payoffs[i] = -1\n",
    "\n",
    "    I_sizes = []\n",
    "    while I.shape != (0,):\n",
    "        I_size = len(I)\n",
    "        I_sizes.append(I_size)\n",
    "        #contagion\n",
    "        for i in I:\n",
    "            neighbors = np.array(g.adj[i])\n",
    "            S_neighbors = np.intersect1d(neighbors, S)\n",
    "            p = np.random.random(len(S_neighbors))\n",
    "            I_neighbors = S_neighbors[p < beta]\n",
    "            I_new = np.concatenate((I, I_neighbors))\n",
    "            S_new = np.setdiff1d(S, I_new)\n",
    "            for i in I_neighbors: \n",
    "                payoffs[i] = -1\n",
    "\n",
    "\n",
    "        #recovery\n",
    "        p = np.random.random(I_size)\n",
    "        R_just_recovered = I[p < gamma]\n",
    "        R_new = np.concatenate((R, R_just_recovered))\n",
    "        I_new = np.setdiff1d(I_new, R_new)\n",
    "\n",
    "        S = S_new\n",
    "        I = I_new\n",
    "        R = R_new\n",
    "    return payoffs\n"
   ]
  },
  {
   "cell_type": "code",
   "execution_count": 56,
   "metadata": {},
   "outputs": [],
   "source": [
    "#instantiation of Q and g\n",
    "\n",
    "g = nx.random_regular_graph(k, N)\n",
    "Q = np.random.random((N, k + 1, 2))"
   ]
  },
  {
   "cell_type": "code",
   "execution_count": 57,
   "metadata": {},
   "outputs": [],
   "source": [
    "def run_model(T, g, Q, discount):\n",
    "    pandemic_size = np.zeros(n)\n",
    "    n_vaxed = np.zeros(n)\n",
    "    avg_payoff = np.zeros(n)\n",
    "\n",
    "    a_t = np.zeros(N, dtype=int)\n",
    "    p = np.random.random(N)\n",
    "    a_t[p > 0.5] = 1\n",
    "    s_t = vec_state(range(N), a_t, g)\n",
    "\n",
    "    for t in tqdm(range(n)):\n",
    "        r_t = epidemic(a_t, g)\n",
    "\n",
    "        #record pandemic outcomes\n",
    "        pandemic_size[t] = len(np.where(r_t == -1)[0])\n",
    "        avg_payoff[t] = sum(r_t)/N\n",
    "        n_vaxed[t] = sum(a_t)\n",
    "\n",
    "        #choose next action and record next state\n",
    "        a_t1 = vec_act(range(N), s_t, Q, T)\n",
    "        s_t1 = vec_state(range(N), a_t1, g)\n",
    "\n",
    "        #update q-table\n",
    "        Q = q_update(Q, s_t, a_t, r_t, s_t1, discount)\n",
    "\n",
    "        #increment t\n",
    "        s_t = s_t1\n",
    "        a_t = a_t1\n",
    "\n",
    "    return avg_payoff, n_vaxed, pandemic_size\n",
    "\n"
   ]
  },
  {
   "cell_type": "code",
   "execution_count": 58,
   "metadata": {},
   "outputs": [
    {
     "name": "stderr",
     "output_type": "stream",
     "text": [
      "100%|██████████| 10000/10000 [00:43<00:00, 230.26it/s]\n",
      "100%|██████████| 10000/10000 [00:43<00:00, 229.90it/s]\n",
      "100%|██████████| 10000/10000 [00:43<00:00, 230.77it/s]\n",
      "100%|██████████| 10000/10000 [00:43<00:00, 227.35it/s]\n",
      "100%|██████████| 10000/10000 [00:43<00:00, 229.44it/s]\n",
      "100%|██████████| 10000/10000 [00:43<00:00, 231.20it/s]\n",
      "100%|██████████| 10000/10000 [00:43<00:00, 229.35it/s]\n",
      "100%|██████████| 10000/10000 [00:43<00:00, 230.41it/s]\n",
      "100%|██████████| 10000/10000 [00:43<00:00, 230.68it/s]\n",
      "100%|██████████| 10000/10000 [00:43<00:00, 228.83it/s]\n",
      "100%|██████████| 10000/10000 [00:43<00:00, 231.98it/s]\n",
      "100%|██████████| 10000/10000 [00:43<00:00, 232.40it/s]\n",
      "100%|██████████| 10000/10000 [00:34<00:00, 293.19it/s]\n",
      "100%|██████████| 10000/10000 [00:35<00:00, 280.61it/s]\n",
      "100%|██████████| 10000/10000 [00:38<00:00, 261.84it/s]\n",
      "100%|██████████| 10000/10000 [00:39<00:00, 251.19it/s]\n",
      "100%|██████████| 10000/10000 [00:41<00:00, 238.32it/s]\n",
      "100%|██████████| 10000/10000 [00:42<00:00, 233.95it/s]\n",
      "100%|██████████| 10000/10000 [00:43<00:00, 230.67it/s]\n",
      "100%|██████████| 10000/10000 [00:43<00:00, 230.46it/s]\n",
      "100%|██████████| 10000/10000 [00:43<00:00, 229.55it/s]\n",
      "100%|██████████| 10000/10000 [00:43<00:00, 228.64it/s]\n"
     ]
    }
   ],
   "source": [
    "discounts = np.linspace(0.9, 1.0, 11)\n",
    "avgs = []\n",
    "for discount in discounts:\n",
    "    #Q = np.random.random((N, k + 1, 2))\n",
    "    avg_payoff, _, _ = run_model(T, g, Q, discount)\n",
    "    avgs.append(np.mean(avg_payoff[2000:]))\n",
    "\n",
    "Q = np.random.random((N, k + 1, 2))\n",
    "\n",
    "discounts_flipped = np.flip(np.linspace(0.9, 1.0, 11))\n",
    "avgs_flipped = []\n",
    "for discount in discounts_flipped:\n",
    "    #Q = np.random.random((N, k + 1, 2))\n",
    "    avg_payoff, _, _ = run_model(T, g, Q, discount)\n",
    "    avgs_flipped.append(np.mean(avg_payoff[2000:]))"
   ]
  },
  {
   "cell_type": "code",
   "execution_count": 59,
   "metadata": {},
   "outputs": [
    {
     "data": {
      "text/plain": [
       "Text(0.5, 1.0, 'T = 0.11')"
      ]
     },
     "execution_count": 59,
     "metadata": {},
     "output_type": "execute_result"
    },
    {
     "data": {
      "image/png": "[encoded data removed]",
      "text/plain": [
       "<Figure size 640x480 with 1 Axes>"
      ]
     },
     "metadata": {},
     "output_type": "display_data"
    }
   ],
   "source": [
    "plt.plot(discounts, avgs, 'o', color='b')\n",
    "plt.plot(discounts_flipped, avgs_flipped, 'o', color='r')\n",
    "plt.title(f'T = {T}')"
   ]
  },
  {
   "cell_type": "code",
   "execution_count": 60,
   "metadata": {},
   "outputs": [
    {
     "name": "stdout",
     "output_type": "stream",
     "text": [
      "-0.22151349999999986\n",
      "-0.22370724999999983\n"
     ]
    }
   ],
   "source": [
    "print(avgs_flipped[0])\n",
    "print(avgs[-3])"
   ]
  },
  {
   "cell_type": "code",
   "execution_count": 61,
   "metadata": {},
   "outputs": [],
   "source": [
    "discountsT = discounts\n",
    "discountsT_flipped = discounts_flipped"
   ]
  }
 ],
 "metadata": {
  "kernelspec": {
   "display_name": "vax",
   "language": "python",
   "name": "python3"
  },
  "language_info": {
   "codemirror_mode": {
    "name": "ipython",
    "version": 3
   },
   "file_extension": ".py",
   "mimetype": "text/x-python",
   "name": "python",
   "nbconvert_exporter": "python",
   "pygments_lexer": "ipython3",
   "version": "3.12.0"
  }
 },
 "nbformat": 4,
 "nbformat_minor": 2
}
